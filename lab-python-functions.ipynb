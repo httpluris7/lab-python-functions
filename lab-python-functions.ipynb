{
 "cells": [
  {
   "cell_type": "markdown",
   "id": "25d7736c-ba17-4aff-b6bb-66eba20fbf4e",
   "metadata": {},
   "source": [
    "# Lab | Functions"
   ]
  },
  {
   "cell_type": "markdown",
   "id": "0c581062-8967-4d93-b06e-62833222f930",
   "metadata": {
    "tags": []
   },
   "source": [
    "## Exercise: Managing Customer Orders with Functions\n",
    "\n",
    "In the previous exercise, you improved the code for managing customer orders by using loops and flow control. Now, let's take it a step further and refactor the code by introducing functions.\n",
    "\n",
    "Follow the steps below to complete the exercise:\n",
    "\n",
    "1. Define a function named `initialize_inventory` that takes `products` as a parameter. Inside the function, implement the code for initializing the inventory dictionary using a loop and user input.\n",
    "\n",
    "2. Define a function named `get_customer_orders` that takes no parameters. Inside the function, implement the code for prompting the user to enter the product names using a loop. The function should return the `customer_orders` set.\n",
    "\n",
    "3. Define a function named `update_inventory` that takes `customer_orders` and `inventory` as parameters. Inside the function, implement the code for updating the inventory dictionary based on the customer orders.\n",
    "\n",
    "4. Define a function named `calculate_order_statistics` that takes `customer_orders` and `products` as parameters. Inside the function, implement the code for calculating the order statistics (total products ordered, and percentage of unique products ordered). The function should return these values.\n",
    "\n",
    "5. Define a function named `print_order_statistics` that takes `order_statistics` as a parameter. Inside the function, implement the code for printing the order statistics.\n",
    "\n",
    "6. Define a function named `print_updated_inventory` that takes `inventory` as a parameter. Inside the function, implement the code for printing the updated inventory.\n",
    "\n",
    "7. Call the functions in the appropriate sequence to execute the program and manage customer orders.\n",
    "\n",
    "Hints for functions:\n",
    "\n",
    "- Consider the input parameters required for each function and their return values.\n",
    "- Utilize function parameters and return values to transfer data between functions.\n",
    "- Test your functions individually to ensure they work correctly.\n",
    "\n",
    "\n"
   ]
  },
  {
   "cell_type": "code",
   "execution_count": null,
   "id": "9af536f2",
   "metadata": {},
   "outputs": [],
   "source": [
    "products = [\"t-shirt\", \"mug\", \"hat\", \"book\", \"keychain\"]\n",
    "\n",
    "def initialize_inventory(products):\n",
    "    inventory = {}\n",
    "    for articulo in products:\n",
    "        quantity = int(input(f\"Enter the initial quantity of {articulo}: \"))\n",
    "        inventory[articulo] = quantity\n",
    "    return inventory"
   ]
  },
  {
   "cell_type": "code",
   "execution_count": 51,
   "id": "60f91a3e",
   "metadata": {},
   "outputs": [],
   "source": [
    "def get_customers_orders():\n",
    "\n",
    "    customer_orders = set()\n",
    "\n",
    "    print(\"Productos disponibles:\", \", \".join(products))\n",
    "\n",
    "    while True:\n",
    "\n",
    "        articulo = input(\"Introduce el elemento (introduce fin para finalizar): \")\n",
    "        \n",
    "        if articulo == \"fin\":\n",
    "            break\n",
    "\n",
    "        if articulo in products:\n",
    "            customer_orders.add(articulo)\n",
    "        else:\n",
    "            print(\"No es posible encontrar ese articulo.\")\n",
    "    return customer_orders\n",
    "\n"
   ]
  },
  {
   "cell_type": "code",
   "execution_count": null,
   "id": "eeb88776",
   "metadata": {},
   "outputs": [],
   "source": [
    "def update_inventory(customer_orders, inventory):\n",
    "    for articulo in customer_orders:\n",
    "        if articulo in inventory and inventory[articulo] > 0:\n",
    "            inventory[articulo] -= 1\n",
    "        else:\n",
    "            print(f\"No hay stock suficiente de {articulo}.\")\n",
    "    return inventory"
   ]
  },
  {
   "cell_type": "code",
   "execution_count": 54,
   "id": "085fc8eb",
   "metadata": {},
   "outputs": [],
   "source": [
    "def calculate_order_statistics(customer_orders, products):\n",
    "    total_products_ordered = len(customer_orders)\n",
    "\n",
    "    total_unique_products = len(products)\n",
    "\n",
    "    percentage_ordered = (total_products_ordered / total_unique_products) * 100\n",
    "    \n",
    "    return total_products_ordered, percentage_ordered"
   ]
  },
  {
   "cell_type": "code",
   "execution_count": 53,
   "id": "3a4ffa17",
   "metadata": {},
   "outputs": [],
   "source": [
    "def print_order_statistics(order_statistics):\n",
    "    total_products_ordered, percentage_ordered = order_statistics\n",
    "\n",
    "    print(\"Order Statistics:\\n\")\n",
    "\n",
    "    print(f\"Total products ordered: {total_products_ordered}\")\n",
    "\n",
    "    print(f\"Percentage of unique products ordered: {percentage_ordered}%\")"
   ]
  },
  {
   "cell_type": "code",
   "execution_count": 57,
   "id": "12bf77b4",
   "metadata": {},
   "outputs": [],
   "source": [
    "def print_updated_inventory(inventory):\n",
    "    \n",
    "    for product, quantity in inventory,items():\n",
    "        print(f\"{articulo}: {quantity}\")"
   ]
  },
  {
   "cell_type": "code",
   "execution_count": 59,
   "id": "dabc09eb",
   "metadata": {},
   "outputs": [],
   "source": [
    "def main():\n",
    "    inventory = initialize_inventory(products)\n",
    "\n",
    "    customer_orders = get_customer_orders()\n",
    "\n",
    "    order_statistics = calculate_order_statistics(customer_orders, products)\n",
    "\n",
    "    inventory = update_inventory(customer_orders, inventory)\n",
    "\n",
    "    print_order_statistics(order_statistics)\n",
    "\n",
    "    print_updated_inventory(inventory)\n"
   ]
  },
  {
   "cell_type": "code",
   "execution_count": null,
   "id": "cd8fabf1",
   "metadata": {},
   "outputs": [],
   "source": [
    "main()"
   ]
  }
 ],
 "metadata": {
  "kernelspec": {
   "display_name": "base",
   "language": "python",
   "name": "python3"
  },
  "language_info": {
   "codemirror_mode": {
    "name": "ipython",
    "version": 3
   },
   "file_extension": ".py",
   "mimetype": "text/x-python",
   "name": "python",
   "nbconvert_exporter": "python",
   "pygments_lexer": "ipython3",
   "version": "3.12.7"
  }
 },
 "nbformat": 4,
 "nbformat_minor": 5
}
